{
  "nbformat": 4,
  "nbformat_minor": 0,
  "metadata": {
    "colab": {
      "name": "Copy_of_keras_lab.ipynb",
      "provenance": []
    },
    "kernelspec": {
      "name": "python3",
      "display_name": "Python 3"
    },
    "accelerator": "TPU",
    "widgets": {
      "application/vnd.jupyter.widget-state+json": {
        "822f3711aacf4e90afec3e30e3f5567d": {
          "model_module": "@jupyter-widgets/controls",
          "model_name": "HBoxModel",
          "state": {
            "_view_name": "HBoxView",
            "_dom_classes": [],
            "_model_name": "HBoxModel",
            "_view_module": "@jupyter-widgets/controls",
            "_model_module_version": "1.5.0",
            "_view_count": null,
            "_view_module_version": "1.5.0",
            "box_style": "",
            "layout": "IPY_MODEL_f936bb8500264a42a29ab1df310a09aa",
            "_model_module": "@jupyter-widgets/controls",
            "children": [
              "IPY_MODEL_7497529ae1254b3289ec8cdeabff8468",
              "IPY_MODEL_33bb4a7c88044b238c02cff06641f7ba"
            ]
          }
        },
        "f936bb8500264a42a29ab1df310a09aa": {
          "model_module": "@jupyter-widgets/base",
          "model_name": "LayoutModel",
          "state": {
            "_view_name": "LayoutView",
            "grid_template_rows": null,
            "right": null,
            "justify_content": null,
            "_view_module": "@jupyter-widgets/base",
            "overflow": null,
            "_model_module_version": "1.2.0",
            "_view_count": null,
            "flex_flow": null,
            "width": null,
            "min_width": null,
            "border": null,
            "align_items": null,
            "bottom": null,
            "_model_module": "@jupyter-widgets/base",
            "top": null,
            "grid_column": null,
            "overflow_y": null,
            "overflow_x": null,
            "grid_auto_flow": null,
            "grid_area": null,
            "grid_template_columns": null,
            "flex": null,
            "_model_name": "LayoutModel",
            "justify_items": null,
            "grid_row": null,
            "max_height": null,
            "align_content": null,
            "visibility": null,
            "align_self": null,
            "height": null,
            "min_height": null,
            "padding": null,
            "grid_auto_rows": null,
            "grid_gap": null,
            "max_width": null,
            "order": null,
            "_view_module_version": "1.2.0",
            "grid_template_areas": null,
            "object_position": null,
            "object_fit": null,
            "grid_auto_columns": null,
            "margin": null,
            "display": null,
            "left": null
          }
        },
        "7497529ae1254b3289ec8cdeabff8468": {
          "model_module": "@jupyter-widgets/controls",
          "model_name": "FloatProgressModel",
          "state": {
            "_view_name": "ProgressView",
            "style": "IPY_MODEL_b1f856872f9e493cb031ffd2f73c7067",
            "_dom_classes": [],
            "description": "Dl Completed...: 100%",
            "_model_name": "FloatProgressModel",
            "bar_style": "success",
            "max": 4,
            "_view_module": "@jupyter-widgets/controls",
            "_model_module_version": "1.5.0",
            "value": 4,
            "_view_count": null,
            "_view_module_version": "1.5.0",
            "orientation": "horizontal",
            "min": 0,
            "description_tooltip": null,
            "_model_module": "@jupyter-widgets/controls",
            "layout": "IPY_MODEL_c12f7b3762e146dd9a0ec4468737dce6"
          }
        },
        "33bb4a7c88044b238c02cff06641f7ba": {
          "model_module": "@jupyter-widgets/controls",
          "model_name": "HTMLModel",
          "state": {
            "_view_name": "HTMLView",
            "style": "IPY_MODEL_b8663e6ef632486b82b67346f26e8a9d",
            "_dom_classes": [],
            "description": "",
            "_model_name": "HTMLModel",
            "placeholder": "​",
            "_view_module": "@jupyter-widgets/controls",
            "_model_module_version": "1.5.0",
            "value": " 4/4 [00:00&lt;00:00,  7.37 file/s]",
            "_view_count": null,
            "_view_module_version": "1.5.0",
            "description_tooltip": null,
            "_model_module": "@jupyter-widgets/controls",
            "layout": "IPY_MODEL_893b813a2bfa479099ad2398d2562504"
          }
        },
        "b1f856872f9e493cb031ffd2f73c7067": {
          "model_module": "@jupyter-widgets/controls",
          "model_name": "ProgressStyleModel",
          "state": {
            "_view_name": "StyleView",
            "_model_name": "ProgressStyleModel",
            "description_width": "initial",
            "_view_module": "@jupyter-widgets/base",
            "_model_module_version": "1.5.0",
            "_view_count": null,
            "_view_module_version": "1.2.0",
            "bar_color": null,
            "_model_module": "@jupyter-widgets/controls"
          }
        },
        "c12f7b3762e146dd9a0ec4468737dce6": {
          "model_module": "@jupyter-widgets/base",
          "model_name": "LayoutModel",
          "state": {
            "_view_name": "LayoutView",
            "grid_template_rows": null,
            "right": null,
            "justify_content": null,
            "_view_module": "@jupyter-widgets/base",
            "overflow": null,
            "_model_module_version": "1.2.0",
            "_view_count": null,
            "flex_flow": null,
            "width": null,
            "min_width": null,
            "border": null,
            "align_items": null,
            "bottom": null,
            "_model_module": "@jupyter-widgets/base",
            "top": null,
            "grid_column": null,
            "overflow_y": null,
            "overflow_x": null,
            "grid_auto_flow": null,
            "grid_area": null,
            "grid_template_columns": null,
            "flex": null,
            "_model_name": "LayoutModel",
            "justify_items": null,
            "grid_row": null,
            "max_height": null,
            "align_content": null,
            "visibility": null,
            "align_self": null,
            "height": null,
            "min_height": null,
            "padding": null,
            "grid_auto_rows": null,
            "grid_gap": null,
            "max_width": null,
            "order": null,
            "_view_module_version": "1.2.0",
            "grid_template_areas": null,
            "object_position": null,
            "object_fit": null,
            "grid_auto_columns": null,
            "margin": null,
            "display": null,
            "left": null
          }
        },
        "b8663e6ef632486b82b67346f26e8a9d": {
          "model_module": "@jupyter-widgets/controls",
          "model_name": "DescriptionStyleModel",
          "state": {
            "_view_name": "StyleView",
            "_model_name": "DescriptionStyleModel",
            "description_width": "",
            "_view_module": "@jupyter-widgets/base",
            "_model_module_version": "1.5.0",
            "_view_count": null,
            "_view_module_version": "1.2.0",
            "_model_module": "@jupyter-widgets/controls"
          }
        },
        "893b813a2bfa479099ad2398d2562504": {
          "model_module": "@jupyter-widgets/base",
          "model_name": "LayoutModel",
          "state": {
            "_view_name": "LayoutView",
            "grid_template_rows": null,
            "right": null,
            "justify_content": null,
            "_view_module": "@jupyter-widgets/base",
            "overflow": null,
            "_model_module_version": "1.2.0",
            "_view_count": null,
            "flex_flow": null,
            "width": null,
            "min_width": null,
            "border": null,
            "align_items": null,
            "bottom": null,
            "_model_module": "@jupyter-widgets/base",
            "top": null,
            "grid_column": null,
            "overflow_y": null,
            "overflow_x": null,
            "grid_auto_flow": null,
            "grid_area": null,
            "grid_template_columns": null,
            "flex": null,
            "_model_name": "LayoutModel",
            "justify_items": null,
            "grid_row": null,
            "max_height": null,
            "align_content": null,
            "visibility": null,
            "align_self": null,
            "height": null,
            "min_height": null,
            "padding": null,
            "grid_auto_rows": null,
            "grid_gap": null,
            "max_width": null,
            "order": null,
            "_view_module_version": "1.2.0",
            "grid_template_areas": null,
            "object_position": null,
            "object_fit": null,
            "grid_auto_columns": null,
            "margin": null,
            "display": null,
            "left": null
          }
        }
      }
    }
  },
  "cells": [
    {
      "cell_type": "code",
      "metadata": {
        "id": "jS47B8K0JLkx"
      },
      "source": [
        "import tensorflow as tf\n",
        "import tensorflow.keras as tfk\n",
        "import tensorflow.keras.layers as tfkl\n",
        "import numpy as np\n",
        "import matplotlib.pyplot as plt"
      ],
      "execution_count": 1,
      "outputs": []
    },
    {
      "cell_type": "markdown",
      "metadata": {
        "id": "iehoGWa6SSWU"
      },
      "source": [
        "### regression\n",
        "\n",
        "Let's start by using `keras` to make a neural network for a simple regression task where both the input and the output as 1-dimensional. Below is some code that will produce the dataset for you to train on.\n",
        "\n",
        "Here are some general steps to follow:\n",
        "1. Define your model by passing `tfk.Sequential` a list of layers (found in `tf.keras.layers`, which is already imported for you by the shorter name `tfkl`, since you will use this module many times.\n",
        "2. Your first layers should be a `tfkl.Input` layer that specifies the shape of the input (it will automatically include an empty first dimension with size `None` as a placehold for the batch size).\n",
        "3. The rest of your layers should be `tfkl.Dense` layers; you will be to specify the number of neurons/units as well as the activation function (you can find those in `tf.nn`, and you can use `None` for a \"linear\" activation function, $f(x)=x$). Make sure you pick an output function that makes sense for this prediction task!\n",
        "4. Choose an appropriate optimizer from `tfk.optimizers` and an appropriate loss function from `tfk.losses` (both are classes that wil need to be initialized), and then pass them to `model.compile` to compile your model.\n",
        "5. Call `model.fit` to fit your model and collect the results\n",
        "6. Plot your training curve (loss vs training step)\n",
        "7. Call your model (`model(...)`) on a grid of inputs (code to make the grid provided) and plot the relationship your model learned against the true relationship (defined as `f` in the code below)."
      ]
    },
    {
      "cell_type": "code",
      "metadata": {
        "id": "HDgsWoAKJbxz",
        "outputId": "935dc227-9a9e-4196-dc5d-67f2b81ac596",
        "colab": {
          "base_uri": "https://localhost:8080/",
          "height": 265
        }
      },
      "source": [
        "def regression_data(N):\n",
        "  x = np.random.uniform(low=-5.0, high=5.0, size=(N, 1)).astype(np.float32)\n",
        "  e = 0.2 * np.random.normal(size=(N, 1)).astype(np.float32)\n",
        "  f = lambda x: 0.2 * x**2 * np.sin(2 * np.pi * x / 6)\n",
        "  y = f(x) + e\n",
        "  return x, y\n",
        "\n",
        "N = 100\n",
        "x_train,y_train =  regression_data(100)\n",
        "x_test,y_test = regression_data(100)\n",
        "\n",
        "plt.scatter(x, y, s=10)\n",
        "plt.show()"
      ],
      "execution_count": 14,
      "outputs": [
        {
          "output_type": "display_data",
          "data": {
            "image/png": "[encoded data removed]",
            "text/plain": [
              "<Figure size 432x288 with 1 Axes>"
            ]
          },
          "metadata": {
            "tags": [],
            "needs_background": "light"
          }
        }
      ]
    },
    {
      "cell_type": "code",
      "metadata": {
        "id": "vBzgG7E0KmFR",
        "outputId": "96b9c172-5511-4cc4-e135-903d5d7d7b67",
        "colab": {
          "base_uri": "https://localhost:8080/",
          "height": 581
        }
      },
      "source": [
        "a=tf.nn.relu\n",
        "model=tfk.Sequential([\n",
        "    tfkl.Input((1,)),\n",
        "    tfkl.Dense(100,activation=a),\n",
        "    tfkl.Dense(20,activation=a),\n",
        "    tfkl.Dense(1,activation=None)\n",
        "])\n",
        "model.summary()\n",
        " \n",
        "cbs=[tfk.callbacks.EarlyStopping(min_delta=0.01, patience=2)]\n",
        "\n",
        "ds_train =tf.data.Dataset.from_tensor_slices((x_train,y_train)).batch(32).repeat().prefetch(10)\n",
        "ds_test =tf.data.Dataset.from_tensor_slices((x_test,y_test)).batch(100).repeat().prefetch(10)\n",
        "\n",
        "loss=tfk.losses.MeanSquaredError()\n",
        "opt=tfk.optimizers.Adam()\n",
        "model.compile(opt,loss)\n",
        "\n",
        "result=model.fit(ds_train,steps_per_epoch=100, epochs=10000, callbacks=cbs, validation_data=ds_test, validation_steps=1)"
      ],
      "execution_count": 19,
      "outputs": [
        {
          "output_type": "stream",
          "text": [
            "Model: \"sequential_3\"\n",
            "_________________________________________________________________\n",
            "Layer (type)                 Output Shape              Param #   \n",
            "=================================================================\n",
            "dense_6 (Dense)              (None, 100)               200       \n",
            "_________________________________________________________________\n",
            "dense_7 (Dense)              (None, 20)                2020      \n",
            "_________________________________________________________________\n",
            "dense_8 (Dense)              (None, 1)                 21        \n",
            "=================================================================\n",
            "Total params: 2,241\n",
            "Trainable params: 2,241\n",
            "Non-trainable params: 0\n",
            "_________________________________________________________________\n",
            "Epoch 1/10000\n",
            "100/100 [==============================] - 0s 2ms/step - loss: 1.9578 - val_loss: 1.6872\n",
            "Epoch 2/10000\n",
            "100/100 [==============================] - 0s 1ms/step - loss: 1.5314 - val_loss: 1.3291\n",
            "Epoch 3/10000\n",
            "100/100 [==============================] - 0s 1ms/step - loss: 1.0320 - val_loss: 0.6901\n",
            "Epoch 4/10000\n",
            "100/100 [==============================] - 0s 2ms/step - loss: 0.4404 - val_loss: 0.2585\n",
            "Epoch 5/10000\n",
            "100/100 [==============================] - 0s 1ms/step - loss: 0.1885 - val_loss: 0.1404\n",
            "Epoch 6/10000\n",
            "100/100 [==============================] - 0s 1ms/step - loss: 0.1197 - val_loss: 0.1033\n",
            "Epoch 7/10000\n",
            "100/100 [==============================] - 0s 1ms/step - loss: 0.0976 - val_loss: 0.0921\n",
            "Epoch 8/10000\n",
            "100/100 [==============================] - 0s 1ms/step - loss: 0.0909 - val_loss: 0.0887\n",
            "Epoch 9/10000\n",
            "100/100 [==============================] - 0s 1ms/step - loss: 0.0884 - val_loss: 0.0856\n"
          ],
          "name": "stdout"
        }
      ]
    },
    {
      "cell_type": "code",
      "metadata": {
        "id": "RW7CCRfuMW91",
        "outputId": "b3735e08-b076-404f-e7eb-9f486f646d40",
        "colab": {
          "base_uri": "https://localhost:8080/",
          "height": 323
        }
      },
      "source": [
        "result.history"
      ],
      "execution_count": null,
      "outputs": [
        {
          "output_type": "execute_result",
          "data": {
            "text/plain": [
              "{'loss': [1.9578135013580322,\n",
              "  1.531424880027771,\n",
              "  1.0320481061935425,\n",
              "  0.44039517641067505,\n",
              "  0.18853560090065002,\n",
              "  0.11965980380773544,\n",
              "  0.09759598225355148,\n",
              "  0.09093482047319412,\n",
              "  0.0884338840842247],\n",
              " 'val_loss': [1.6872456073760986,\n",
              "  1.3290635347366333,\n",
              "  0.6901421546936035,\n",
              "  0.2585332691669464,\n",
              "  0.14042766392230988,\n",
              "  0.10329565405845642,\n",
              "  0.0921357050538063,\n",
              "  0.08871220797300339,\n",
              "  0.08561106026172638]}"
            ]
          },
          "metadata": {
            "tags": []
          },
          "execution_count": 25
        }
      ]
    },
    {
      "cell_type": "code",
      "metadata": {
        "id": "JHNLc3ExLQk9",
        "outputId": "61c1f3f8-9cdd-4701-a5b9-a64e03698e22",
        "colab": {
          "base_uri": "https://localhost:8080/",
          "height": 282
        }
      },
      "source": [
        "plt.plot(result.history['loss'])\n",
        "plt.plot(result.history['val_loss'])"
      ],
      "execution_count": 27,
      "outputs": [
        {
          "output_type": "execute_result",
          "data": {
            "text/plain": [
              "[<matplotlib.lines.Line2D at 0x7f19a3d5d6d8>]"
            ]
          },
          "metadata": {
            "tags": []
          },
          "execution_count": 27
        },
        {
          "output_type": "display_data",
          "data": {
            "image/png": "[encoded data removed]",
            "text/plain": [
              "<Figure size 432x288 with 1 Axes>"
            ]
          },
          "metadata": {
            "tags": [],
            "needs_background": "light"
          }
        }
      ]
    },
    {
      "cell_type": "code",
      "metadata": {
        "id": "pULO0BniMAL2",
        "outputId": "2bd9fe6b-37f6-4774-fa25-69ae7277cbd9",
        "colab": {
          "base_uri": "https://localhost:8080/",
          "height": 265
        }
      },
      "source": [
        "x_grid = np.linspace(x.min(), x.max(),200).astype(np.float32)[:, np.newaxis]\n",
        "f = lambda x: 0.2 * x**2 * np.sin(2 * np.pi * x / 6)\n",
        "y_true = f(x_grid)\n",
        "y_hat = model(x_grid)\n",
        "\n",
        "plt.scatter(x,y,s=5)\n",
        "plt.scatter(x_grid, y_true,label = 'true')\n",
        "plt.plot(x_grid, y_hat,label = 'predicated')\n",
        "plt.plot([],[])\n",
        "plt.legend()\n",
        "plt.show() "
      ],
      "execution_count": 21,
      "outputs": [
        {
          "output_type": "display_data",
          "data": {
            "image/png": "[encoded data removed]",
            "text/plain": [
              "<Figure size 432x288 with 1 Axes>"
            ]
          },
          "metadata": {
            "tags": [],
            "needs_background": "light"
          }
        }
      ]
    },
    {
      "cell_type": "markdown",
      "metadata": {
        "id": "Dc59MczHVrc9"
      },
      "source": [
        "### binary classification\n",
        "\n",
        "Here is another dataset that differs in two key ways from the regression example we just worked:\n",
        "1. The input is now 2-dimensional\n",
        "2. The targets are now binary classes\n",
        "\n",
        "Update your model to handle both of these changes and try fitting this new data. Think about the following:\n",
        "- input shape\n",
        "- output function\n",
        "- loss function\n",
        "\n",
        "Since visualizing the results is a bit tricky, we have provided some code for that."
      ]
    },
    {
      "cell_type": "code",
      "metadata": {
        "id": "NMg8n9NRGo_9",
        "outputId": "ef3a76d2-e20d-47d6-edcf-ccc390f24a97",
        "colab": {
          "base_uri": "https://localhost:8080/",
          "height": 428
        }
      },
      "source": [
        "N = 200\n",
        "def binary_classification_data(N):\n",
        "  x = np.random.uniform(low=-5, high=5, size=(N, 2))\n",
        "  y = (x[:, 0] * x[:, 1] > 0).astype(np.int)\n",
        "  return x, y\n",
        "\n",
        "x_train, y_train = binary_classification_data(N)\n",
        "x_test, y_test = binary_classification_data(N)\n",
        "\n",
        "plt.figure(figsize=(7, 7))\n",
        "plt.scatter(x_train[:, 0], x_train[:, 1], s=10, c=y_train, cmap='coolwarm')\n",
        "plt.show()"
      ],
      "execution_count": 24,
      "outputs": [
        {
          "output_type": "display_data",
          "data": {
            "image/png": "[encoded data removed]",
            "text/plain": [
              "<Figure size 504x504 with 1 Axes>"
            ]
          },
          "metadata": {
            "tags": [],
            "needs_background": "light"
          }
        }
      ]
    },
    {
      "cell_type": "code",
      "metadata": {
        "id": "t4P6Ez3VJzQk",
        "outputId": "c054a27d-6e29-4c1d-fce6-958f47c500be",
        "colab": {
          "base_uri": "https://localhost:8080/",
          "height": 765
        }
      },
      "source": [
        "a=tf.nn.softplus\n",
        "model=tfk.Sequential([\n",
        "    tfkl.Input((2,)),\n",
        "    tfkl.Dense(100,activation=a),\n",
        "    tfkl.Dense(20,activation=a),\n",
        "    tfkl.Dense(1,activation=tf.nn.sigmoid)\n",
        "])\n",
        "model.summary()\n",
        "\n",
        "cbs=[tfk.callbacks.EarlyStopping(min_delta=0.001, patience=2)]\n",
        "\n",
        "ds_train =tf.data.Dataset.from_tensor_slices((x_train,y_train)).batch(32).repeat().prefetch(10)\n",
        "ds_test =tf.data.Dataset.from_tensor_slices((x_test,y_test)).batch(100).repeat().prefetch(10)\n",
        "\n",
        "loss=tfk.losses.BinaryCrossentropy()\n",
        "opt=tfk.optimizers.Adam()\n",
        "\n",
        "model.compile(opt,loss)\n",
        "\n",
        "result=model.fit(ds_train,steps_per_epoch=100, epochs=10000, callbacks=cbs, validation_data=ds_test, validation_steps=1)"
      ],
      "execution_count": 35,
      "outputs": [
        {
          "output_type": "stream",
          "text": [
            "Model: \"sequential_7\"\n",
            "_________________________________________________________________\n",
            "Layer (type)                 Output Shape              Param #   \n",
            "=================================================================\n",
            "dense_18 (Dense)             (None, 100)               300       \n",
            "_________________________________________________________________\n",
            "dense_19 (Dense)             (None, 20)                2020      \n",
            "_________________________________________________________________\n",
            "dense_20 (Dense)             (None, 1)                 21        \n",
            "=================================================================\n",
            "Total params: 2,341\n",
            "Trainable params: 2,341\n",
            "Non-trainable params: 0\n",
            "_________________________________________________________________\n",
            "Epoch 1/10000\n",
            "100/100 [==============================] - 0s 2ms/step - loss: 0.5589 - val_loss: 0.4514\n",
            "Epoch 2/10000\n",
            "100/100 [==============================] - 0s 1ms/step - loss: 0.2816 - val_loss: 0.2563\n",
            "Epoch 3/10000\n",
            "100/100 [==============================] - 0s 2ms/step - loss: 0.1651 - val_loss: 0.1853\n",
            "Epoch 4/10000\n",
            "100/100 [==============================] - 0s 1ms/step - loss: 0.1208 - val_loss: 0.1508\n",
            "Epoch 5/10000\n",
            "100/100 [==============================] - 0s 2ms/step - loss: 0.0964 - val_loss: 0.1307\n",
            "Epoch 6/10000\n",
            "100/100 [==============================] - 0s 1ms/step - loss: 0.0803 - val_loss: 0.1179\n",
            "Epoch 7/10000\n",
            "100/100 [==============================] - 0s 2ms/step - loss: 0.0695 - val_loss: 0.1107\n",
            "Epoch 8/10000\n",
            "100/100 [==============================] - 0s 1ms/step - loss: 0.0604 - val_loss: 0.1056\n",
            "Epoch 9/10000\n",
            "100/100 [==============================] - 0s 2ms/step - loss: 0.0538 - val_loss: 0.1001\n",
            "Epoch 10/10000\n",
            "100/100 [==============================] - 0s 1ms/step - loss: 0.0483 - val_loss: 0.0981\n",
            "Epoch 11/10000\n",
            "100/100 [==============================] - 0s 2ms/step - loss: 0.0436 - val_loss: 0.0957\n",
            "Epoch 12/10000\n",
            "100/100 [==============================] - 0s 1ms/step - loss: 0.0394 - val_loss: 0.0934\n",
            "Epoch 13/10000\n",
            "100/100 [==============================] - 0s 1ms/step - loss: 0.0358 - val_loss: 0.0911\n",
            "Epoch 14/10000\n",
            "100/100 [==============================] - 0s 1ms/step - loss: 0.0330 - val_loss: 0.0907\n",
            "Epoch 15/10000\n",
            "100/100 [==============================] - 0s 1ms/step - loss: 0.0302 - val_loss: 0.0906\n"
          ],
          "name": "stdout"
        }
      ]
    },
    {
      "cell_type": "code",
      "metadata": {
        "id": "5ZUclc8PKqEC",
        "outputId": "09496079-b768-46a8-e761-0ba5a3220fcf",
        "colab": {
          "base_uri": "https://localhost:8080/",
          "height": 269
        }
      },
      "source": [
        "def binary_preds(model, x_minmax=5):\n",
        "  x_grid = np.linspace(-x_minmax, x_minmax, 100)\n",
        "  mesh = np.meshgrid(x_grid, x_grid)\n",
        "  xs_grid = np.stack(mesh, axis=-1)\n",
        "  yhat = model(xs_grid).numpy().squeeze()\n",
        "\n",
        "\n",
        "  plt.imshow(yhat, cmap='coolwarm')\n",
        "  plt.colorbar()\n",
        "\n",
        "binary_preds(model)"
      ],
      "execution_count": 36,
      "outputs": [
        {
          "output_type": "display_data",
          "data": {
            "image/png": "[encoded data removed]",
            "text/plain": [
              "<Figure size 432x288 with 2 Axes>"
            ]
          },
          "metadata": {
            "tags": [],
            "needs_background": "light"
          }
        }
      ]
    },
    {
      "cell_type": "markdown",
      "metadata": {
        "id": "f6NPT8dsWWXW"
      },
      "source": [
        "### general classfication\n",
        "\n",
        "Finally we will download and train on some real data to learn about general classification. Here is some code that will download and show some metadata about the MNIST dataset -- a collectin of handwritten digits.\n",
        "\n",
        "Update your model to work on this data so that you model can predict the digit from its image. One new thing to keep in mind: these inputs are 2D. Later in the course we will learn about convolutional neural nets for handing such inputs more naturally, but for now, update your `tfkl.Input` layer to be 2-dimensional and then add a `tfkl.Flatten()` layer right after it to unravel the 2-d image into a 1-d vector of pixels.\n",
        "\n",
        "Again, visualalizing the output is a bit tricky, so we have provided some code to help."
      ]
    },
    {
      "cell_type": "code",
      "metadata": {
        "id": "TQl7DZmBNvm_",
        "outputId": "01102f5c-fb13-4d92-ff83-83c7c6a94971",
        "colab": {
          "base_uri": "https://localhost:8080/",
          "height": 647,
          "referenced_widgets": [
            "822f3711aacf4e90afec3e30e3f5567d",
            "f936bb8500264a42a29ab1df310a09aa",
            "7497529ae1254b3289ec8cdeabff8468",
            "33bb4a7c88044b238c02cff06641f7ba",
            "b1f856872f9e493cb031ffd2f73c7067",
            "c12f7b3762e146dd9a0ec4468737dce6",
            "b8663e6ef632486b82b67346f26e8a9d",
            "893b813a2bfa479099ad2398d2562504"
          ]
        }
      },
      "source": [
        "import tensorflow_datasets as tfds\n",
        "\n",
        "ds, metadata = tfds.load('mnist', with_info=True)\n",
        "print(metadata)"
      ],
      "execution_count": 37,
      "outputs": [
        {
          "output_type": "stream",
          "text": [
            "WARNING:absl:Dataset mnist is hosted on GCS. It will automatically be downloaded to your\n",
            "local data directory. If you'd instead prefer to read directly from our public\n",
            "GCS bucket (recommended if you're running on GCP), you can instead set\n",
            "data_dir=gs://tfds-data/datasets.\n",
            "\n"
          ],
          "name": "stderr"
        },
        {
          "output_type": "stream",
          "text": [
            "\u001b[1mDownloading and preparing dataset mnist/3.0.0 (download: 11.06 MiB, generated: Unknown size, total: 11.06 MiB) to /root/tensorflow_datasets/mnist/3.0.0...\u001b[0m\n"
          ],
          "name": "stdout"
        },
        {
          "output_type": "display_data",
          "data": {
            "application/vnd.jupyter.widget-view+json": {
              "model_id": "822f3711aacf4e90afec3e30e3f5567d",
              "version_minor": 0,
              "version_major": 2
            },
            "text/plain": [
              "HBox(children=(FloatProgress(value=0.0, description='Dl Completed...', max=4.0, style=ProgressStyle(descriptio…"
            ]
          },
          "metadata": {
            "tags": []
          }
        },
        {
          "output_type": "stream",
          "text": [
            "\n",
            "\n",
            "\u001b[1mDataset mnist downloaded and prepared to /root/tensorflow_datasets/mnist/3.0.0. Subsequent calls will reuse this data.\u001b[0m\n",
            "tfds.core.DatasetInfo(\n",
            "    name='mnist',\n",
            "    version=3.0.0,\n",
            "    description='The MNIST database of handwritten digits.',\n",
            "    homepage='http://yann.lecun.com/exdb/mnist/',\n",
            "    features=FeaturesDict({\n",
            "        'image': Image(shape=(28, 28, 1), dtype=tf.uint8),\n",
            "        'label': ClassLabel(shape=(), dtype=tf.int64, num_classes=10),\n",
            "    }),\n",
            "    total_num_examples=70000,\n",
            "    splits={\n",
            "        'test': 10000,\n",
            "        'train': 60000,\n",
            "    },\n",
            "    supervised_keys=('image', 'label'),\n",
            "    citation=\"\"\"@article{lecun2010mnist,\n",
            "      title={MNIST handwritten digit database},\n",
            "      author={LeCun, Yann and Cortes, Corinna and Burges, CJ},\n",
            "      journal={ATT Labs [Online]. Available: http://yann. lecun. com/exdb/mnist},\n",
            "      volume={2},\n",
            "      year={2010}\n",
            "    }\"\"\",\n",
            "    redistribution_info=,\n",
            ")\n",
            "\n"
          ],
          "name": "stdout"
        }
      ]
    },
    {
      "cell_type": "code",
      "metadata": {
        "id": "bKre0z2HOCDm",
        "outputId": "a44fc7a2-7259-47ca-8d26-7a1d22b7dfcc",
        "colab": {
          "base_uri": "https://localhost:8080/",
          "height": 425
        }
      },
      "source": [
        "a=tf.nn.softplus\n",
        "model=tfk.Sequential([\n",
        "    tfkl.Input((28,28,1,)),\n",
        "    tfkl.Flatten(),\n",
        "    tfkl.Dense(100,activation=a),\n",
        "    tfkl.Dense(20,activation=a),\n",
        "    tfkl.Dense(10,activation=tf.nn.softmax)\n",
        "])\n",
        "model.summary()\n",
        "cbs=[tfk.callbacks.EarlyStopping(min_delta=0.01, patience=1)]\n",
        "\n",
        "preprocess = lambda d: (tf.cast(d['image'], tf.float32)/255., d['label'])\n",
        "ds_train =ds['train'].map(preprocess).cache().batch(32).repeat().prefetch(10)\n",
        "ds_test =ds['test'].take(1000).map(preprocess).batch(1000).repeat().prefetch(10)\n",
        "\n",
        "loss=tfk.losses.SparseCategoricalCrossentropy() \n",
        "opt=tfk.optimizers.Adam()\n",
        "\n",
        "model.compile(opt,loss)\n",
        "\n",
        "result=model.fit(ds_train,validation_data = ds_test,\n",
        "                 validation_steps = 1, steps_per_epoch=100, epochs=1000, callbacks=cbs)"
      ],
      "execution_count": 46,
      "outputs": [
        {
          "output_type": "stream",
          "text": [
            "Model: \"sequential_16\"\n",
            "_________________________________________________________________\n",
            "Layer (type)                 Output Shape              Param #   \n",
            "=================================================================\n",
            "flatten_8 (Flatten)          (None, 784)               0         \n",
            "_________________________________________________________________\n",
            "dense_45 (Dense)             (None, 100)               78500     \n",
            "_________________________________________________________________\n",
            "dense_46 (Dense)             (None, 20)                2020      \n",
            "_________________________________________________________________\n",
            "dense_47 (Dense)             (None, 10)                210       \n",
            "=================================================================\n",
            "Total params: 80,730\n",
            "Trainable params: 80,730\n",
            "Non-trainable params: 0\n",
            "_________________________________________________________________\n",
            "Epoch 1/1000\n",
            "100/100 [==============================] - 1s 13ms/step - loss: 1.6004 - val_loss: 0.7969\n",
            "Epoch 2/1000\n",
            "100/100 [==============================] - 1s 10ms/step - loss: 0.6262 - val_loss: 0.4580\n",
            "Epoch 3/1000\n",
            "100/100 [==============================] - 1s 10ms/step - loss: 0.4535 - val_loss: 0.3751\n",
            "Epoch 4/1000\n",
            "100/100 [==============================] - 1s 11ms/step - loss: 0.3976 - val_loss: 0.3707\n"
          ],
          "name": "stdout"
        }
      ]
    },
    {
      "cell_type": "code",
      "metadata": {
        "id": "oJ17dcdQOt_w",
        "outputId": "693eb80f-1eaf-45f2-97a6-4bff2e24db7b",
        "colab": {
          "base_uri": "https://localhost:8080/",
          "height": 713
        }
      },
      "source": [
        "def mnist_viz(model):\n",
        "    ims, labels = next(iter(ds['test'].map(preprocess).batch(10)))\n",
        "    yhat = model(ims)\n",
        "    ypred = tf.argmax(yhat)\n",
        "\n",
        "    plt.figure(figsize=(10, 40))\n",
        "    for i in range(10):\n",
        "        plt.subplot(10, 2, 2*i+1)\n",
        "        plt.imshow(ims[i].numpy().squeeze(), cmap='bone')\n",
        "        plt.subplot(10, 2, 2*i+2)\n",
        "        plt.bar(np.arange(10), yhat[i].numpy())\n",
        "        plt.ylim([0, 1])\n",
        "        plt.show()\n",
        "\n",
        "# your code here\n",
        "mnist_viz(model)"
      ],
      "execution_count": 48,
      "outputs": [
        {
          "output_type": "display_data",
          "data": {
            "image/png": "[encoded data removed]",
            "text/plain": [
              "<Figure size 720x2880 with 2 Axes>"
            ]
          },
          "metadata": {
            "tags": [],
            "needs_background": "light"
          }
        },
        {
          "output_type": "display_data",
          "data": {
            "image/png": "[encoded data removed]",
            "text/plain": [
              "<Figure size 432x288 with 2 Axes>"
            ]
          },
          "metadata": {
            "tags": [],
            "needs_background": "light"
          }
        },
        {
          "output_type": "display_data",
          "data": {
            "image/png": "[encoded data removed]",
            "text/plain": [
              "<Figure size 432x288 with 2 Axes>"
            ]
          },
          "metadata": {
            "tags": [],
            "needs_background": "light"
          }
        },
        {
          "output_type": "display_data",
          "data": {
            "image/png": "[encoded data removed]",
            "text/plain": [
              "<Figure size 432x288 with 2 Axes>"
            ]
          },
          "metadata": {
            "tags": [],
            "needs_background": "light"
          }
        },
        {
          "output_type": "display_data",
          "data": {
            "image/png": "[encoded data removed]",
            "text/plain": [
              "<Figure size 432x288 with 2 Axes>"
            ]
          },
          "metadata": {
            "tags": [],
            "needs_background": "light"
          }
        },
        {
          "output_type": "display_data",
          "data": {
            "image/png": "[encoded data removed]",
            "text/plain": [
              "<Figure size 432x288 with 2 Axes>"
            ]
          },
          "metadata": {
            "tags": [],
            "needs_background": "light"
          }
        },
        {
          "output_type": "display_data",
          "data": {
            "image/png": "[encoded data removed]",
            "text/plain": [
              "<Figure size 432x288 with 2 Axes>"
            ]
          },
          "metadata": {
            "tags": [],
            "needs_background": "light"
          }
        },
        {
          "output_type": "display_data",
          "data": {
            "image/png": "[encoded data removed]",
            "text/plain": [
              "<Figure size 432x288 with 2 Axes>"
            ]
          },
          "metadata": {
            "tags": [],
            "needs_background": "light"
          }
        },
        {
          "output_type": "display_data",
          "data": {
            "image/png": "[encoded data removed]",
            "text/plain": [
              "<Figure size 432x288 with 2 Axes>"
            ]
          },
          "metadata": {
            "tags": [],
            "needs_background": "light"
          }
        },
        {
          "output_type": "display_data",
          "data": {
            "image/png": "[encoded data removed]",
            "text/plain": [
              "<Figure size 432x288 with 2 Axes>"
            ]
          },
          "metadata": {
            "tags": [],
            "needs_background": "light"
          }
        }
      ]
    }
  ]
}